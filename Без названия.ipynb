{
 "cells": [
  {
   "cell_type": "code",
   "execution_count": 1,
   "id": "8bc8efd9",
   "metadata": {},
   "outputs": [],
   "source": [
    "import uuid"
   ]
  },
  {
   "cell_type": "code",
   "execution_count": 4,
   "id": "aa0969d5",
   "metadata": {},
   "outputs": [
    {
     "data": {
      "text/plain": [
       "'f75ca0375f9e446b92a45c512893f830'"
      ]
     },
     "execution_count": 4,
     "metadata": {},
     "output_type": "execute_result"
    }
   ],
   "source": [
    "uuid.uuid4()."
   ]
  },
  {
   "cell_type": "code",
   "execution_count": 6,
   "id": "e1d8262d",
   "metadata": {},
   "outputs": [],
   "source": [
    "class User:\n",
    "    name = 'Vasya'\n",
    "    \n",
    "    def get_name(self):\n",
    "        print(self.name)\n",
    "    \n",
    "    @classmethod\n",
    "    def get_cls_name(cls):\n",
    "        print(cls.name)\n"
   ]
  },
  {
   "cell_type": "code",
   "execution_count": 11,
   "id": "edc775ff",
   "metadata": {},
   "outputs": [
    {
     "data": {
      "text/plain": [
       "'Vasya'"
      ]
     },
     "execution_count": 11,
     "metadata": {},
     "output_type": "execute_result"
    }
   ],
   "source": [
    "User.name"
   ]
  },
  {
   "cell_type": "code",
   "execution_count": 8,
   "id": "225fe2ef",
   "metadata": {},
   "outputs": [
    {
     "name": "stdout",
     "output_type": "stream",
     "text": [
      "Vasya\n"
     ]
    }
   ],
   "source": [
    "User.get_cls_name()"
   ]
  },
  {
   "cell_type": "code",
   "execution_count": 9,
   "id": "77c195a1",
   "metadata": {},
   "outputs": [
    {
     "name": "stdout",
     "output_type": "stream",
     "text": [
      "Vasya\n"
     ]
    }
   ],
   "source": [
    "a = User()\n",
    "a.get_name()"
   ]
  },
  {
   "cell_type": "code",
   "execution_count": 10,
   "id": "4f1512e0",
   "metadata": {},
   "outputs": [
    {
     "name": "stdout",
     "output_type": "stream",
     "text": [
      "Vasya\n"
     ]
    }
   ],
   "source": [
    "a.get_cls_name()\n"
   ]
  },
  {
   "cell_type": "code",
   "execution_count": null,
   "id": "d565a1eb",
   "metadata": {},
   "outputs": [],
   "source": []
  }
 ],
 "metadata": {
  "kernelspec": {
   "display_name": "Django Shell-Plus",
   "language": "python",
   "name": "django_extensions"
  },
  "language_info": {
   "codemirror_mode": {
    "name": "ipython",
    "version": 3
   },
   "file_extension": ".py",
   "mimetype": "text/x-python",
   "name": "python",
   "nbconvert_exporter": "python",
   "pygments_lexer": "ipython3",
   "version": "3.8.10"
  }
 },
 "nbformat": 4,
 "nbformat_minor": 5
}
